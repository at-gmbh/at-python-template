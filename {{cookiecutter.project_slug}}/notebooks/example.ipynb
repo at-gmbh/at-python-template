{
 "cells": [
  {
   "cell_type": "markdown",
   "metadata": {},
   "source": [
    {% if cookiecutter.package_manager == 'poetry' %}
    "You can use your module `{{ cookiecutter.module_name }}` from here, provided you're running the jupyter server using `poetry run jupyter notebook` from the root of this project directory."
    {% else %}
    "To use your module `{{ cookiecutter.module_name  }}` from here, run `pip install -e .` from the root of your project directory."
    {% endif %}
   ]
  },{% if cookiecutter.config_file != 'none' %}
  {
   "cell_type": "code",
   "execution_count": null,
   "metadata": {},
   "outputs": [],
   "source": [
    {% if cookiecutter.config_file == 'yaml' %}"import os\n",
    {% endif %}"import logging\n",
    "from {{ cookiecutter.module_name }} import util\n",
	"\n",
    "logger = logging.getLogger(\"{{ cookiecutter.module_name }}\")\n",
    "\n",
    "config = util.load_config({% if cookiecutter.config_file == 'yaml' %}os.path.join(os.path.abspath(os.pardir),\n",
    "                                       \"config\",\n",
    "                                       \"config.yml\"){% endif %})\n",
    "util.logging_setup(config)\n",
    "\n",
	"logger.info(\"Use this setup to start logging in notebooks or to \"+\n",
    "            \"get the correct logging format in your {{ cookiecutter.module_name }} module\")"
   ]
  },{% endif %}
  {
   "cell_type": "code",
   "execution_count": null,
   "metadata": {},
   "outputs": [],
   "source": []
  }
 ],
 "metadata": {
  "language_info": {
   "file_extension": ".py",
   "name": "python"
  }
 },
 "nbformat": 4,
 "nbformat_minor": 4
}
